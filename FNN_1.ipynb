{
  "nbformat": 4,
  "nbformat_minor": 0,
  "metadata": {
    "colab": {
      "provenance": []
    },
    "kernelspec": {
      "name": "python3",
      "display_name": "Python 3"
    },
    "language_info": {
      "name": "python"
    }
  },
  "cells": [
    {
      "cell_type": "code",
      "execution_count": 1,
      "metadata": {
        "id": "BZkz1us8eRVb"
      },
      "outputs": [],
      "source": [
        "import numpy as np  # For matrix and numerical operations\n",
        "from tensorflow.keras.datasets import mnist  # To load the MNIST dataset"
      ]
    },
    {
      "cell_type": "code",
      "source": [
        "import numpy as np\n",
        "from tensorflow.keras.datasets import mnist\n",
        "\n",
        "# Load MNIST data\n",
        "(X_train, y_train), (X_test, y_test) = mnist.load_data()\n",
        "\n",
        "# Flatten images (28x28 -> 784) and normalize values to [0, 1]\n",
        "X_train = X_train.reshape(X_train.shape[0], -1) / 255.0\n",
        "X_test = X_test.reshape(X_test.shape[0], -1) / 255.0\n",
        "\n",
        "# One-hot encode the labels\n",
        "def one_hot_encode(y, num_classes=10):\n",
        "    encoded = np.zeros((y.size, num_classes))\n",
        "    encoded[np.arange(y.size), y] = 1\n",
        "    return encoded\n",
        "\n",
        "y_train = one_hot_encode(y_train)\n",
        "y_test = one_hot_encode(y_test)"
      ],
      "metadata": {
        "colab": {
          "base_uri": "https://localhost:8080/"
        },
        "id": "mmMqK0CdeU1X",
        "outputId": "49e3a1e7-a08d-4457-b5c4-499e7137109e"
      },
      "execution_count": 2,
      "outputs": [
        {
          "output_type": "stream",
          "name": "stdout",
          "text": [
            "Downloading data from https://storage.googleapis.com/tensorflow/tf-keras-datasets/mnist.npz\n",
            "\u001b[1m11490434/11490434\u001b[0m \u001b[32m━━━━━━━━━━━━━━━━━━━━\u001b[0m\u001b[37m\u001b[0m \u001b[1m1s\u001b[0m 0us/step\n"
          ]
        }
      ]
    },
    {
      "cell_type": "code",
      "source": [
        "input_size=784\n",
        "hidden1_size=256\n",
        "hidden2_size=64\n",
        "output_size =10"
      ],
      "metadata": {
        "id": "N2x2TWw4ul-r"
      },
      "execution_count": 14,
      "outputs": []
    },
    {
      "cell_type": "code",
      "source": [],
      "metadata": {
        "id": "ANx1oTQAumD6"
      },
      "execution_count": null,
      "outputs": []
    },
    {
      "cell_type": "code",
      "source": [
        "# Initialize model parameters\n",
        "np.random.seed(42)\n",
        "W1 = np.random.randn(input_size, hidden1_size) * 0.1\n",
        "b1 = np.zeros((1, hidden1_size))\n",
        "W2 = np.random.randn(hidden1_size, hidden2_size) * 0.1\n",
        "b2 = np.zeros((1, hidden2_size))\n",
        "W3 = np.random.randn(hidden2_size, output_size) * 0.1\n",
        "b3 = np.zeros((1, output_size))\n",
        "\n",
        "# Activation functions\n",
        "def relu(x):\n",
        "    return np.maximum(0, x)\n",
        "\n",
        "def relu_derivative(x):\n",
        "    return np.where(x > 0, 1, 0)\n",
        "\n",
        "def softmax(x):\n",
        "    exp_x = np.exp(x - np.max(x, axis=1, keepdims=True))  # Stability trick\n",
        "    return exp_x / np.sum(exp_x, axis=1, keepdims=True)\n",
        "\n",
        "# Forward propagation\n",
        "def forward_propagation(X):\n",
        "    global Z1, A1, Z2, A2, Z3, A3\n",
        "    Z1 = np.dot(X, W1) + b1\n",
        "    A1 = relu(Z1)\n",
        "    Z2 = np.dot(A1, W2) + b2\n",
        "    A2 = relu(Z2)\n",
        "    Z3 = np.dot(A2, W3) + b3\n",
        "    A3 = softmax(Z3)\n",
        "    return A3\n",
        "\n",
        "# Backward propagation\n",
        "def backward_propagation(X, y, output):\n",
        "    global W1, b1, W2, b2, W3, b3\n",
        "    m = X.shape[0]\n",
        "\n",
        "    # Gradients for output layer\n",
        "    dZ3 = output - y\n",
        "    dW3 = np.dot(A2.T, dZ3) / m\n",
        "    db3 = np.sum(dZ3, axis=0, keepdims=True) / m\n",
        "\n",
        "    # Gradients for second hidden layer\n",
        "    dA2 = np.dot(dZ3, W3.T)\n",
        "    dZ2 = dA2 * relu_derivative(Z2)\n",
        "    dW2 = np.dot(A1.T, dZ2) / m\n",
        "    db2 = np.sum(dZ2, axis=0, keepdims=True) / m\n",
        "\n",
        "    # Gradients for first hidden layer\n",
        "    dA1 = np.dot(dZ2, W2.T)\n",
        "    dZ1 = dA1 * relu_derivative(Z1)\n",
        "    dW1 = np.dot(X.T, dZ1) / m\n",
        "    db1 = np.sum(dZ1, axis=0, keepdims=True) / m\n",
        "\n",
        "    # Update weights and biases\n",
        "    W1 -= learning_rate * dW1\n",
        "    b1 -= learning_rate * db1\n",
        "    W2 -= learning_rate * dW2\n",
        "    b2 -= learning_rate * db2\n",
        "    W3 -= learning_rate * dW3\n",
        "    b3 -= learning_rate * db3\n",
        "\n",
        "# Training\n",
        "epochs = 20\n",
        "learning_rate = 0.1\n",
        "\n",
        "for epoch in range(epochs):\n",
        "    # Forward and backward propagation for the entire training set\n",
        "    output = forward_propagation(X_train)\n",
        "    backward_propagation(X_train, y_train, output)\n",
        "\n",
        "    # Compute loss for the entire training set\n",
        "    loss = -np.mean(np.sum(y_train * np.log(output + 1e-8), axis=1))\n",
        "    print(f\"Epoch {epoch + 1}/{epochs}, Loss: {loss}\")\n",
        "\n"
      ],
      "metadata": {
        "id": "-GomMhgWeU_m",
        "colab": {
          "base_uri": "https://localhost:8080/"
        },
        "outputId": "63301a28-f312-4d45-ffe8-68b8b91340f7"
      },
      "execution_count": 15,
      "outputs": [
        {
          "output_type": "stream",
          "name": "stdout",
          "text": [
            "Epoch 1/20, Loss: 2.4182752054605934\n",
            "Epoch 2/20, Loss: 2.3023976364103453\n",
            "Epoch 3/20, Loss: 2.228589369923908\n",
            "Epoch 4/20, Loss: 2.1650178320797373\n",
            "Epoch 5/20, Loss: 2.1052081799549525\n",
            "Epoch 6/20, Loss: 2.046502230239699\n",
            "Epoch 7/20, Loss: 1.9876206551384195\n",
            "Epoch 8/20, Loss: 1.9278937030102299\n",
            "Epoch 9/20, Loss: 1.8670939799564765\n",
            "Epoch 10/20, Loss: 1.8052113270818206\n",
            "Epoch 11/20, Loss: 1.7424944686387975\n",
            "Epoch 12/20, Loss: 1.679378925725385\n",
            "Epoch 13/20, Loss: 1.6163256710837985\n",
            "Epoch 14/20, Loss: 1.5539188894487852\n",
            "Epoch 15/20, Loss: 1.4927364441391557\n",
            "Epoch 16/20, Loss: 1.4332208149399888\n",
            "Epoch 17/20, Loss: 1.3758321768311206\n",
            "Epoch 18/20, Loss: 1.3209183542895189\n",
            "Epoch 19/20, Loss: 1.2687163049324492\n",
            "Epoch 20/20, Loss: 1.2193862285001775\n"
          ]
        }
      ]
    },
    {
      "cell_type": "code",
      "source": [
        "# Test accuracy\n",
        "output_test = forward_propagation(X_test)\n",
        "predictions = np.argmax(output_test, axis=1)\n",
        "labels = np.argmax(y_test, axis=1)\n",
        "accuracy = np.mean(predictions == labels) * 100\n",
        "print(f\"Test Accuracy: {accuracy}%\")"
      ],
      "metadata": {
        "id": "9cOpMTepeVCm",
        "colab": {
          "base_uri": "https://localhost:8080/"
        },
        "outputId": "559260b7-bcea-4d24-9d49-2ec92ddc5e89"
      },
      "execution_count": 16,
      "outputs": [
        {
          "output_type": "stream",
          "name": "stdout",
          "text": [
            "Test Accuracy: 74.4%\n"
          ]
        }
      ]
    },
    {
      "cell_type": "code",
      "source": [],
      "metadata": {
        "id": "p88efrGCv_3h"
      },
      "execution_count": null,
      "outputs": []
    },
    {
      "cell_type": "code",
      "source": [
        "# Training function with added features\n",
        "epochs = 100  # Total number of epochs\n",
        "learning_rate = 0.01  # Learning rate\n",
        "\n",
        "for epoch in range(epochs):\n",
        "    # Perform forward propagation\n",
        "    output = forward_propagation(X_train)\n",
        "\n",
        "    # Calculate loss (Cross-Entropy)\n",
        "    loss = -np.mean(np.sum(y_train * np.log(output + 1e-8), axis=1))\n",
        "\n",
        "    # Perform backward propagation to adjust weights and biases\n",
        "    backward_propagation(X_train, y_train, output)\n",
        "\n",
        "    # Print average loss for the current epoch\n",
        "    print(f\"Epoch {epoch + 1}/{epochs}, Loss: {loss}\")\n",
        "\n",
        "# Saving the model parameters after training\n",
        "np.save('W1.npy', W1)\n",
        "np.save('b1.npy', b1)\n",
        "np.save('W2.npy', W2)\n",
        "np.save('b2.npy', b2)\n",
        "np.save('W3.npy', W3)\n",
        "np.save('b3.npy', b3)\n",
        "\n",
        "# Save everything in a single .npz file for easier reloading\n",
        "np.savez('model_parameters.npz', W1=W1, b1=b1, W2=W2, b2=b2, W3=W3, b3=b3)\n",
        "\n",
        "print(\"Model training complete. Parameters saved successfully.\")\n"
      ],
      "metadata": {
        "id": "MpCp85Qaplcu"
      },
      "execution_count": null,
      "outputs": []
    },
    {
      "cell_type": "code",
      "source": [],
      "metadata": {
        "id": "C16s6zM9wBH0"
      },
      "execution_count": null,
      "outputs": []
    },
    {
      "cell_type": "code",
      "source": [
        "# Load the saved model parameters\n",
        "model_parameters = np.load('model_parameters.npz')\n",
        "\n",
        "# Load weights and biases from the saved file\n",
        "W1 = model_parameters['W1']\n",
        "b1 = model_parameters['b1']\n",
        "W2 = model_parameters['W2']\n",
        "b2 = model_parameters['b2']\n",
        "W3 = model_parameters['w3']\n",
        "b3 = model_parameters['b3']\n",
        "\n",
        "print(\"Model loaded successfully!\")\n",
        "\n",
        "# Define the testing function\n",
        "def test_model(X_test, y_test):\n",
        "    \"\"\"\n",
        "    Test the model on the test data and calculate accuracy.\n",
        "    \"\"\"\n",
        "    # Forward pass using the trained model parameters\n",
        "    def forward_pass(X):\n",
        "        Z1 = np.dot(X, W1) + b1\n",
        "        A1 = relu(Z1)\n",
        "\n",
        "        Z2 = np.dot(A1, W2) + b2\n",
        "        A2 = relu(Z2)\n",
        "\n",
        "        Z3 = np.dot(A2, W3) + b3\n",
        "        A3 = softmax(Z3)\n",
        "        return A3\n",
        "\n",
        "    # Make predictions\n",
        "    outputs = forward_pass(X_test)\n",
        "    predicted = np.argmax(outputs, axis=1)  # Get the class with the highest probability\n",
        "\n",
        "    # Convert one-hot encoded labels to class indices\n",
        "    true_labels = np.argmax(y_test, axis=1)\n",
        "\n",
        "    # Calculate accuracy\n",
        "    accuracy = np.mean(predicted == true_labels) * 100\n",
        "\n",
        "    # Print accuracy\n",
        "    print(f\"Test Accuracy: {accuracy:.2f}%\")\n",
        "\n",
        "# Call the test function with your test data\n",
        "test_model(X_test, y_test)\n"
      ],
      "metadata": {
        "id": "D-_aArN2qMgL"
      },
      "execution_count": null,
      "outputs": []
    }
  ]
}